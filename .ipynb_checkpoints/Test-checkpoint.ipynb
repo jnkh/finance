{
 "metadata": {
  "name": "",
  "signature": "sha256:39a7ea461e49a4769c093ef89eb463db86a57378eb22599cf08466eae2d7e68e"
 },
 "nbformat": 3,
 "nbformat_minor": 0,
 "worksheets": [
  {
   "cells": [
    {
     "cell_type": "code",
     "collapsed": false,
     "input": [
      "import urllib2"
     ],
     "language": "python",
     "metadata": {},
     "outputs": [],
     "prompt_number": 1
    },
    {
     "cell_type": "markdown",
     "metadata": {},
     "source": [
      "#Past Stock Market Data#"
     ]
    },
    {
     "cell_type": "code",
     "collapsed": false,
     "input": [
      "response = urllib2.urlopen('http://ichart.finance.yahoo.com/table.csv?s=MFT&a=1&b=1&c=1970&d=1&e=1&f=2014&g=d')\n",
      "\n",
      "lines = response.readlines()\n",
      "split_lines = [l.split(',') for l in lines]\n",
      "print len(split_lines)\n",
      "print split_lines[0]\n",
      "print split_lines[1]\n",
      "print split_lines[-1]"
     ],
     "language": "python",
     "metadata": {},
     "outputs": [
      {
       "output_type": "stream",
       "stream": "stdout",
       "text": [
        "4851\n",
        "['Date', 'Open', 'High', 'Low', 'Close', 'Volume', 'Adj Close\\n']\n",
        "['2014-01-31', '12.92', '13.00', '12.91', '12.91', '7700', '12.57\\n']\n",
        "['1994-10-27', '11.38', '11.50', '11.00', '11.12', '29200', '3.46\\n']\n"
       ]
      }
     ],
     "prompt_number": 95
    },
    {
     "cell_type": "code",
     "collapsed": false,
     "input": [],
     "language": "python",
     "metadata": {},
     "outputs": []
    },
    {
     "cell_type": "markdown",
     "metadata": {},
     "source": [
      "#Current Stock Market Data#"
     ]
    },
    {
     "cell_type": "code",
     "collapsed": false,
     "input": [
      "response = urllib2.urlopen('http://finance.yahoo.com/d/quotes.csv?s=AAPL+GOOG+MSFT+SP&f=nsghpc1b2b3')\n",
      "\n",
      "lines = response.readlines()\n",
      "split_lines = [l.split(',') for l in lines]\n",
      "split_lines"
     ],
     "language": "python",
     "metadata": {},
     "outputs": [
      {
       "metadata": {},
       "output_type": "pyout",
       "prompt_number": 76,
       "text": [
        "[['\"Apple Inc.\"',\n",
        "  '\"AAPL\"',\n",
        "  '91.3389',\n",
        "  '92.30',\n",
        "  '92.18',\n",
        "  '-0.32',\n",
        "  '91.60',\n",
        "  '91.58\\r\\n'],\n",
        " ['\"Google Inc.\"',\n",
        "  '\"GOOG\"',\n",
        "  '548.51',\n",
        "  '555.00',\n",
        "  '553.37',\n",
        "  '+1.53',\n",
        "  '554.80',\n",
        "  '553.51\\r\\n'],\n",
        " ['\"Microsoft Corpora\"',\n",
        "  '\"MSFT\"',\n",
        "  '41.3301',\n",
        "  '41.77',\n",
        "  '41.65',\n",
        "  '-0.14',\n",
        "  '41.51',\n",
        "  '41.39\\r\\n'],\n",
        " ['\"SP Plus Corporati\"',\n",
        "  '\"SP\"',\n",
        "  '21.25',\n",
        "  '21.53',\n",
        "  '21.35',\n",
        "  '+0.03',\n",
        "  '21.38',\n",
        "  '21.36\\r\\n']]"
       ]
      }
     ],
     "prompt_number": 76
    },
    {
     "cell_type": "code",
     "collapsed": false,
     "input": [],
     "language": "python",
     "metadata": {},
     "outputs": [],
     "prompt_number": 59
    },
    {
     "cell_type": "code",
     "collapsed": false,
     "input": [],
     "language": "python",
     "metadata": {},
     "outputs": [],
     "prompt_number": 62
    },
    {
     "cell_type": "code",
     "collapsed": false,
     "input": [],
     "language": "python",
     "metadata": {},
     "outputs": [
      {
       "metadata": {},
       "output_type": "pyout",
       "prompt_number": 63,
       "text": [
        "[['\"Apple Inc.\"', '68983104', '91.57\\r\\n'],\n",
        " ['\"Google Inc.\"', '2133450', '553.51\\r\\n'],\n",
        " ['\"Microsoft Corpora\"', '32476300', '41.39\\r\\n'],\n",
        " ['\"SP Plus Corporati\"', '65020', '21.36\\r\\n']]"
       ]
      }
     ],
     "prompt_number": 63
    },
    {
     "cell_type": "code",
     "collapsed": false,
     "input": [],
     "language": "python",
     "metadata": {},
     "outputs": []
    }
   ],
   "metadata": {}
  }
 ]
}