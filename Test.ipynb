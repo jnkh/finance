{
 "metadata": {
  "name": "",
  "signature": "sha256:414cf3c2f8e0bf000ffb8b39acdd4a5ccbb1a334745c19f901cea0781eaa088c"
 },
 "nbformat": 3,
 "nbformat_minor": 0,
 "worksheets": [
  {
   "cells": [
    {
     "cell_type": "code",
     "collapsed": false,
     "input": [
      "import urllib2"
     ],
     "language": "python",
     "metadata": {},
     "outputs": [],
     "prompt_number": 1
    },
    {
     "cell_type": "markdown",
     "metadata": {},
     "source": [
      "#Past Stock Market Data#"
     ]
    },
    {
     "cell_type": "code",
     "collapsed": false,
     "input": [
      "response = urllib2.urlopen('http://ichart.finance.yahoo.com/table.csv?s=MFT&a=1&b=1&c=1970&d=1&e=1&f=2014&g=d')\n",
      "df = read_csv(response)\n",
      "lines = response.readlines()\n",
      "split_lines = [l.split(',') for l in lines]\n",
      "print len(split_lines)\n",
      "print split_lines[0]\n",
      "print split_lines[1]\n",
      "print split_lines[-1]"
     ],
     "language": "python",
     "metadata": {},
     "outputs": [
      {
       "output_type": "stream",
       "stream": "stdout",
       "text": [
        "4851\n",
        "['Date', 'Open', 'High', 'Low', 'Close', 'Volume', 'Adj Close\\n']\n",
        "['2014-01-31', '12.92', '13.00', '12.91', '12.91', '7700', '12.57\\n']\n",
        "['1994-10-27', '11.38', '11.50', '11.00', '11.12', '29200', '3.46\\n']\n"
       ]
      }
     ],
     "prompt_number": 95
    },
    {
     "cell_type": "code",
     "collapsed": false,
     "input": [
      "from pandas import *\n",
      "response = urllib2.urlopen('http://ichart.finance.yahoo.com/table.csv?s=YHOO&a=11&b=3&c=2000&d=1&e=1&f=2014&g=d&ignore=.csv')\n",
      "df = read_csv(response)\n",
      "df = df.reindex(index=df.index[::-1])"
     ],
     "language": "python",
     "metadata": {},
     "outputs": [],
     "prompt_number": 163
    },
    {
     "cell_type": "code",
     "collapsed": false,
     "input": [
      "df.Date[len(df)-1],df.Date[0]"
     ],
     "language": "python",
     "metadata": {},
     "outputs": [
      {
       "metadata": {},
       "output_type": "pyout",
       "prompt_number": 164,
       "text": [
        "('2000-12-04', '2014-01-31')"
       ]
      }
     ],
     "prompt_number": 164
    },
    {
     "cell_type": "code",
     "collapsed": false,
     "input": [
      "df.plot(x='Date')\n",
      "ax = gca()\n",
      "ax.set_yscale('log')"
     ],
     "language": "python",
     "metadata": {},
     "outputs": [],
     "prompt_number": 171
    },
    {
     "cell_type": "markdown",
     "metadata": {},
     "source": [
      "#Current Stock Market Data#"
     ]
    },
    {
     "cell_type": "code",
     "collapsed": false,
     "input": [
      "response = urllib2.urlopen('http://finance.yahoo.com/d/quotes.csv?s=AAPL+GOOG+MSFT+SP&f=nsghpc1b2b3')\n",
      "df = read_csv(response)\n",
      "lines = response.readlines()\n",
      "split_lines = [l.split(',') for l in lines]\n",
      "split_lines"
     ],
     "language": "python",
     "metadata": {},
     "outputs": [
      {
       "metadata": {},
       "output_type": "pyout",
       "prompt_number": 104,
       "text": [
        "[]"
       ]
      }
     ],
     "prompt_number": 104
    },
    {
     "cell_type": "code",
     "collapsed": false,
     "input": [
      "df"
     ],
     "language": "python",
     "metadata": {},
     "outputs": [
      {
       "html": [
        "<div style=\"max-height:1000px;max-width:1500px;overflow:auto;\">\n",
        "<table border=\"1\" class=\"dataframe\">\n",
        "  <thead>\n",
        "    <tr style=\"text-align: right;\">\n",
        "      <th></th>\n",
        "      <th>Apple Inc.</th>\n",
        "      <th>AAPL</th>\n",
        "      <th>91.3389</th>\n",
        "      <th>92.30</th>\n",
        "      <th>92.18</th>\n",
        "      <th>-0.32</th>\n",
        "      <th>91.62</th>\n",
        "      <th>91.57</th>\n",
        "    </tr>\n",
        "  </thead>\n",
        "  <tbody>\n",
        "    <tr>\n",
        "      <th>0</th>\n",
        "      <td>       Google Inc.</td>\n",
        "      <td> GOOG</td>\n",
        "      <td> 548.5100</td>\n",
        "      <td> 555.00</td>\n",
        "      <td> 553.37</td>\n",
        "      <td> 1.53</td>\n",
        "      <td> 554.80</td>\n",
        "      <td> 553.51</td>\n",
        "    </tr>\n",
        "    <tr>\n",
        "      <th>1</th>\n",
        "      <td> Microsoft Corpora</td>\n",
        "      <td> MSFT</td>\n",
        "      <td>  41.3301</td>\n",
        "      <td>  41.77</td>\n",
        "      <td>  41.65</td>\n",
        "      <td>-0.14</td>\n",
        "      <td>  41.50</td>\n",
        "      <td>  41.47</td>\n",
        "    </tr>\n",
        "    <tr>\n",
        "      <th>2</th>\n",
        "      <td> SP Plus Corporati</td>\n",
        "      <td>   SP</td>\n",
        "      <td>  21.2500</td>\n",
        "      <td>  21.53</td>\n",
        "      <td>  21.35</td>\n",
        "      <td> 0.03</td>\n",
        "      <td>  21.38</td>\n",
        "      <td>  21.36</td>\n",
        "    </tr>\n",
        "  </tbody>\n",
        "</table>\n",
        "<p>3 rows \u00d7 8 columns</p>\n",
        "</div>"
       ],
       "metadata": {},
       "output_type": "pyout",
       "prompt_number": 105,
       "text": [
        "          Apple Inc.  AAPL   91.3389   92.30   92.18  -0.32   91.62   91.57\n",
        "0        Google Inc.  GOOG  548.5100  555.00  553.37   1.53  554.80  553.51\n",
        "1  Microsoft Corpora  MSFT   41.3301   41.77   41.65  -0.14   41.50   41.47\n",
        "2  SP Plus Corporati    SP   21.2500   21.53   21.35   0.03   21.38   21.36\n",
        "\n",
        "[3 rows x 8 columns]"
       ]
      }
     ],
     "prompt_number": 105
    },
    {
     "cell_type": "code",
     "collapsed": false,
     "input": [],
     "language": "python",
     "metadata": {},
     "outputs": [],
     "prompt_number": 62
    },
    {
     "cell_type": "code",
     "collapsed": false,
     "input": [],
     "language": "python",
     "metadata": {},
     "outputs": [
      {
       "metadata": {},
       "output_type": "pyout",
       "prompt_number": 63,
       "text": [
        "[['\"Apple Inc.\"', '68983104', '91.57\\r\\n'],\n",
        " ['\"Google Inc.\"', '2133450', '553.51\\r\\n'],\n",
        " ['\"Microsoft Corpora\"', '32476300', '41.39\\r\\n'],\n",
        " ['\"SP Plus Corporati\"', '65020', '21.36\\r\\n']]"
       ]
      }
     ],
     "prompt_number": 63
    },
    {
     "cell_type": "code",
     "collapsed": false,
     "input": [],
     "language": "python",
     "metadata": {},
     "outputs": []
    }
   ],
   "metadata": {}
  }
 ]
}